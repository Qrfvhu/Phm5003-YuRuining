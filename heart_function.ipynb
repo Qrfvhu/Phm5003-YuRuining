{
 "cells": [
  {
   "metadata": {},
   "cell_type": "code",
   "outputs": [],
   "execution_count": null,
   "source": [
    "library(tidyverse)\n",
    "\n",
    "#1. Use to load the data into a tibble\n",
    "heart_function <- read_csv(\"https://raw.githubusercontent.com/kennethban/dataset/main/heart_failure.csv\")\n",
    "# The name I originally used was A, but due to the built-in function with the same name in R language, an error occurred. I need to be careful to avoid it in the future!\n",
    "\n",
    "# 2. Change categorical variables to factors (anaemia diabetes high_blood_pressure sex smoking DEATH_EVENT)\n",
    "heart_function <- heart_function %>%\n",
    "  mutate(\n",
    "    anaemia = as.factor(anaemia),\n",
    "    diabetes = as.factor(diabetes),\n",
    "    high_blood_pressure = as.factor(high_blood_pressure),\n",
    "    sex = as.factor(sex),\n",
    "    smoking = as.factor(smoking),\n",
    "    DEATH_EVENT = as.factor(DEATH_EVENT)\n",
    "  )\n",
    "  \n",
    "#3. Summarize the mean and count of patients of grouped by age DEATH_EVENT\n",
    "summary <- heart_function %>%\n",
    "  group_by(DEATH_EVENT) %>%\n",
    "  summarise(\n",
    "    age_mean = mean(age),\n",
    "    DEATH_EVENT_count = n()\n",
    "  )\n",
    "\n",
    "summary"
   ],
   "id": "d33d4ca2ccccc5de"
  },
  {
   "cell_type": "code",
   "execution_count": null,
   "id": "b78a803f-826e-4f0a-bf96-c08cc81916a0",
   "metadata": {},
   "outputs": [],
   "source": []
  }
 ],
 "metadata": {
  "kernelspec": {
   "display_name": "Python 3 (ipykernel)",
   "language": "python",
   "name": "python3"
  },
  "language_info": {
   "codemirror_mode": {
    "name": "ipython",
    "version": 3
   },
   "file_extension": ".py",
   "mimetype": "text/x-python",
   "name": "python",
   "nbconvert_exporter": "python",
   "pygments_lexer": "ipython3",
   "version": "3.12.0"
  }
 },
 "nbformat": 4,
 "nbformat_minor": 5
}
